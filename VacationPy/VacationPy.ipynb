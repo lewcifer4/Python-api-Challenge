{
 "cells": [
  {
   "cell_type": "code",
   "execution_count": 1,
   "id": "da3b52fb",
   "metadata": {},
   "outputs": [],
   "source": [
    "# Dependencies and Setup\n",
    "import pandas as pd\n",
    "import requests\n",
    "import gmaps\n",
    "\n",
    "# Import API key\n",
    "from api_keys import g_key\n",
    "\n",
    "# Configure gmaps\n",
    "gmaps.configure(api_key=g_key)"
   ]
  },
  {
   "cell_type": "code",
   "execution_count": 2,
   "id": "1c5a7661",
   "metadata": {},
   "outputs": [
    {
     "data": {
      "text/html": [
       "<div>\n",
       "<style scoped>\n",
       "    .dataframe tbody tr th:only-of-type {\n",
       "        vertical-align: middle;\n",
       "    }\n",
       "\n",
       "    .dataframe tbody tr th {\n",
       "        vertical-align: top;\n",
       "    }\n",
       "\n",
       "    .dataframe thead th {\n",
       "        text-align: right;\n",
       "    }\n",
       "</style>\n",
       "<table border=\"1\" class=\"dataframe\">\n",
       "  <thead>\n",
       "    <tr style=\"text-align: right;\">\n",
       "      <th></th>\n",
       "      <th>City_ID</th>\n",
       "      <th>City</th>\n",
       "      <th>Country</th>\n",
       "      <th>Date</th>\n",
       "      <th>Lat</th>\n",
       "      <th>Lng</th>\n",
       "      <th>Max Temp (C)</th>\n",
       "      <th>Humidity (%)</th>\n",
       "      <th>Cloudiness (%)</th>\n",
       "      <th>Wind Speed (mph)</th>\n",
       "    </tr>\n",
       "  </thead>\n",
       "  <tbody>\n",
       "    <tr>\n",
       "      <th>0</th>\n",
       "      <td>0</td>\n",
       "      <td>Bethel</td>\n",
       "      <td>US</td>\n",
       "      <td>2023-03-09 21:01:40</td>\n",
       "      <td>41.3712</td>\n",
       "      <td>-73.4140</td>\n",
       "      <td>9.41</td>\n",
       "      <td>51</td>\n",
       "      <td>36</td>\n",
       "      <td>2.24</td>\n",
       "    </tr>\n",
       "    <tr>\n",
       "      <th>1</th>\n",
       "      <td>1</td>\n",
       "      <td>Nelson</td>\n",
       "      <td>NZ</td>\n",
       "      <td>2023-03-09 21:01:40</td>\n",
       "      <td>-41.2833</td>\n",
       "      <td>173.2833</td>\n",
       "      <td>18.39</td>\n",
       "      <td>82</td>\n",
       "      <td>71</td>\n",
       "      <td>1.13</td>\n",
       "    </tr>\n",
       "    <tr>\n",
       "      <th>2</th>\n",
       "      <td>2</td>\n",
       "      <td>Puerto Ayora</td>\n",
       "      <td>EC</td>\n",
       "      <td>2023-03-09 21:01:31</td>\n",
       "      <td>-0.7393</td>\n",
       "      <td>-90.3518</td>\n",
       "      <td>26.97</td>\n",
       "      <td>89</td>\n",
       "      <td>98</td>\n",
       "      <td>5.81</td>\n",
       "    </tr>\n",
       "    <tr>\n",
       "      <th>3</th>\n",
       "      <td>3</td>\n",
       "      <td>Miyoshi City</td>\n",
       "      <td>JP</td>\n",
       "      <td>2023-03-09 21:00:27</td>\n",
       "      <td>35.0833</td>\n",
       "      <td>137.0667</td>\n",
       "      <td>14.32</td>\n",
       "      <td>72</td>\n",
       "      <td>80</td>\n",
       "      <td>1.06</td>\n",
       "    </tr>\n",
       "    <tr>\n",
       "      <th>4</th>\n",
       "      <td>4</td>\n",
       "      <td>Maniitsoq</td>\n",
       "      <td>GL</td>\n",
       "      <td>2023-03-09 21:01:41</td>\n",
       "      <td>65.4167</td>\n",
       "      <td>-52.9000</td>\n",
       "      <td>-7.58</td>\n",
       "      <td>74</td>\n",
       "      <td>2</td>\n",
       "      <td>3.95</td>\n",
       "    </tr>\n",
       "  </tbody>\n",
       "</table>\n",
       "</div>"
      ],
      "text/plain": [
       "   City_ID          City Country                 Date      Lat       Lng  \\\n",
       "0        0        Bethel      US  2023-03-09 21:01:40  41.3712  -73.4140   \n",
       "1        1        Nelson      NZ  2023-03-09 21:01:40 -41.2833  173.2833   \n",
       "2        2  Puerto Ayora      EC  2023-03-09 21:01:31  -0.7393  -90.3518   \n",
       "3        3  Miyoshi City      JP  2023-03-09 21:00:27  35.0833  137.0667   \n",
       "4        4     Maniitsoq      GL  2023-03-09 21:01:41  65.4167  -52.9000   \n",
       "\n",
       "   Max Temp (C)  Humidity (%)  Cloudiness (%)  Wind Speed (mph)  \n",
       "0          9.41            51              36              2.24  \n",
       "1         18.39            82              71              1.13  \n",
       "2         26.97            89              98              5.81  \n",
       "3         14.32            72              80              1.06  \n",
       "4         -7.58            74               2              3.95  "
      ]
     },
     "execution_count": 2,
     "metadata": {},
     "output_type": "execute_result"
    }
   ],
   "source": [
    "# Load the CSV file created in Part 1 into a Pandas DataFrame\n",
    "city_data_df = pd.read_csv(\"output_data/cities.csv\")\n",
    "\n",
    "# Display sample data\n",
    "city_data_df.head()"
   ]
  },
  {
   "cell_type": "code",
   "execution_count": 3,
   "id": "49163693",
   "metadata": {},
   "outputs": [
    {
     "data": {
      "application/vnd.jupyter.widget-view+json": {
       "model_id": "66f835c0baed459f8235cbd46220755e",
       "version_major": 2,
       "version_minor": 0
      },
      "text/plain": [
       "Figure(layout=FigureLayout(height='400px', padding='1px', width='100%'))"
      ]
     },
     "metadata": {},
     "output_type": "display_data"
    }
   ],
   "source": [
    "# --- access maps with unique API key ---\n",
    "gmaps.configure(api_key=g_key)\n",
    "\n",
    "# --- use Lat and Lng as locations and Humidity as the weight ---\n",
    "locations = city_data_df[[\"Lat\", \"Lng\"]]\n",
    "weights = city_data_df[\"Humidity (%)\"]\n",
    "\n",
    "# --- customize the size of the figure and add heatmap layer to map ---\n",
    "figure_layout = {\n",
    "    'width': \"100%\",\n",
    "    'height': '400px',\n",
    "#    'border': '1px solid black',\n",
    "    'padding': '1px',\n",
    "#    'margin': '0 auto 0 auto'\n",
    "}\n",
    "fig = gmaps.figure(layout=figure_layout, center=(20.0, 5.0), zoom_level=1.9)\n",
    "heatmap_layer = gmaps.heatmap_layer(locations, weights=weights, dissipating=False)\n",
    "fig.add_layer(heatmap_layer)\n",
    "\n",
    "# --- set maximum intensity and point_radius settings ---\n",
    "heatmap_layer.max_intensity = max(weights)\n",
    "heatmap_layer.point_radius = 3\n",
    "\n",
    "# --- display heatmap ---\n",
    "fig"
   ]
  },
  {
   "cell_type": "code",
   "execution_count": 7,
   "id": "5bb6326d",
   "metadata": {},
   "outputs": [
    {
     "data": {
      "text/html": [
       "<div>\n",
       "<style scoped>\n",
       "    .dataframe tbody tr th:only-of-type {\n",
       "        vertical-align: middle;\n",
       "    }\n",
       "\n",
       "    .dataframe tbody tr th {\n",
       "        vertical-align: top;\n",
       "    }\n",
       "\n",
       "    .dataframe thead th {\n",
       "        text-align: right;\n",
       "    }\n",
       "</style>\n",
       "<table border=\"1\" class=\"dataframe\">\n",
       "  <thead>\n",
       "    <tr style=\"text-align: right;\">\n",
       "      <th></th>\n",
       "      <th>City_ID</th>\n",
       "      <th>City</th>\n",
       "      <th>Country</th>\n",
       "      <th>Date</th>\n",
       "      <th>Lat</th>\n",
       "      <th>Lng</th>\n",
       "      <th>Max Temp (C)</th>\n",
       "      <th>Humidity (%)</th>\n",
       "      <th>Cloudiness (%)</th>\n",
       "      <th>Wind Speed (mph)</th>\n",
       "    </tr>\n",
       "  </thead>\n",
       "  <tbody>\n",
       "  </tbody>\n",
       "</table>\n",
       "</div>"
      ],
      "text/plain": [
       "Empty DataFrame\n",
       "Columns: [City_ID, City, Country, Date, Lat, Lng, Max Temp (C), Humidity (%), Cloudiness (%), Wind Speed (mph)]\n",
       "Index: []"
      ]
     },
     "execution_count": 7,
     "metadata": {},
     "output_type": "execute_result"
    }
   ],
   "source": [
    "ideal_cities = cities_data.loc[(cities_data[\"Max Temp (F)\"] > 70) & \n",
    "                               (cities_data[\"Max Temp (F)\"] < 80) & \n",
    "                               (cities_data[\"Wind Speed (mph)\"] < 10) & \n",
    "                               (cities_data[\"Cloudiness (%)\"] == 0) &\n",
    "                               (cities_data[\"Humidity (%)\"] < 75), :].reset_index(drop=True).dropna()\n",
    "ideal_cities"
   ]
  },
  {
   "cell_type": "code",
   "execution_count": null,
   "id": "f90f3790",
   "metadata": {},
   "outputs": [],
   "source": []
  }
 ],
 "metadata": {
  "kernelspec": {
   "display_name": "Python 3 (ipykernel)",
   "language": "python",
   "name": "python3"
  },
  "language_info": {
   "codemirror_mode": {
    "name": "ipython",
    "version": 3
   },
   "file_extension": ".py",
   "mimetype": "text/x-python",
   "name": "python",
   "nbconvert_exporter": "python",
   "pygments_lexer": "ipython3",
   "version": "3.9.13"
  }
 },
 "nbformat": 4,
 "nbformat_minor": 5
}
